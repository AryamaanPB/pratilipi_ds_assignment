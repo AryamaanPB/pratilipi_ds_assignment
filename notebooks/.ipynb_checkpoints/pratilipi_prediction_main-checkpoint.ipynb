{
 "cells": [
  {
   "cell_type": "markdown",
   "id": "0c5029ad",
   "metadata": {},
   "source": [
    "### Importing all necessary libraries"
   ]
  },
  {
   "cell_type": "code",
   "execution_count": 1,
   "id": "65a209a1",
   "metadata": {},
   "outputs": [
    {
     "name": "stderr",
     "output_type": "stream",
     "text": [
      "C:\\ProgramData\\Anaconda3\\lib\\site-packages\\scipy\\__init__.py:138: UserWarning: A NumPy version >=1.16.5 and <1.23.0 is required for this version of SciPy (detected version 1.23.3)\n",
      "  warnings.warn(f\"A NumPy version >={np_minversion} and <{np_maxversion} is required for this version of \"\n"
     ]
    }
   ],
   "source": [
    "from ipynb.fs.defs.pratilipi_prediction_utils import get_dataframe\n",
    "from ipynb.fs.defs.pratilipi_prediction_utils import process_data\n",
    "from ipynb.fs.defs.pratilipi_prediction_utils import fit\n",
    "from ipynb.fs.defs.pratilipi_prediction_utils import predict_and_evaluate"
   ]
  },
  {
   "cell_type": "markdown",
   "id": "d2aac4d9",
   "metadata": {},
   "source": [
    "### Loading all CSVs"
   ]
  },
  {
   "cell_type": "code",
   "execution_count": 18,
   "id": "46a6eee9",
   "metadata": {},
   "outputs": [],
   "source": [
    "user_data = get_dataframe(\"./data/user-interactions.csv\")\n",
    "metadata = get_dataframe(\"./data/metadata.csv\")"
   ]
  },
  {
   "cell_type": "markdown",
   "id": "7e6d1a27",
   "metadata": {},
   "source": [
    "### Processing the data"
   ]
  },
  {
   "cell_type": "code",
   "execution_count": 3,
   "id": "1beec5f1",
   "metadata": {
    "scrolled": false
   },
   "outputs": [
    {
     "name": "stdout",
     "output_type": "stream",
     "text": [
      "converting columns to datetime\n",
      "---------------------------------------\n",
      "sorting dataframe according to date\n",
      "---------------------------------------\n",
      "cleaning up user data\n",
      "---------------------------------------\n",
      "dropping duplicate pratilipi ids from metadata\n",
      "dropping updated_at column from metadata\n",
      "---------------------------------------\n",
      "merging user data and metadata on pratilipi_id\n",
      "---------------------------------------\n",
      "dropping duplicates on complete data\n",
      "---------------------------------------\n",
      "sorting complete data according to date\n",
      "---------------------------------------\n",
      "splitting train and test data\n",
      "---------------------------------------\n"
     ]
    },
    {
     "data": {
      "text/html": [
       "<div>\n",
       "<style scoped>\n",
       "    .dataframe tbody tr th:only-of-type {\n",
       "        vertical-align: middle;\n",
       "    }\n",
       "\n",
       "    .dataframe tbody tr th {\n",
       "        vertical-align: top;\n",
       "    }\n",
       "\n",
       "    .dataframe thead th {\n",
       "        text-align: right;\n",
       "    }\n",
       "</style>\n",
       "<table border=\"1\" class=\"dataframe\">\n",
       "  <thead>\n",
       "    <tr style=\"text-align: right;\">\n",
       "      <th></th>\n",
       "      <th>user_id</th>\n",
       "      <th>pratilipi_id</th>\n",
       "      <th>read_percent</th>\n",
       "      <th>updated_at</th>\n",
       "      <th>category_name</th>\n",
       "    </tr>\n",
       "  </thead>\n",
       "  <tbody>\n",
       "    <tr>\n",
       "      <th>0</th>\n",
       "      <td>5506791964450228</td>\n",
       "      <td>1377786228203072</td>\n",
       "      <td>100.0</td>\n",
       "      <td>2022-03-18 15:14:41.771</td>\n",
       "      <td>swahindi2</td>\n",
       "    </tr>\n",
       "    <tr>\n",
       "      <th>1</th>\n",
       "      <td>5506791972010795</td>\n",
       "      <td>1377786228217647</td>\n",
       "      <td>99.0</td>\n",
       "      <td>2022-03-18 15:14:42.081</td>\n",
       "      <td>swahindi2</td>\n",
       "    </tr>\n",
       "    <tr>\n",
       "      <th>2</th>\n",
       "      <td>5506791980439899</td>\n",
       "      <td>1377786228150074</td>\n",
       "      <td>100.0</td>\n",
       "      <td>2022-03-18 15:14:42.120</td>\n",
       "      <td>suspense</td>\n",
       "    </tr>\n",
       "    <tr>\n",
       "      <th>3</th>\n",
       "      <td>5506791950653936</td>\n",
       "      <td>1377786215559645</td>\n",
       "      <td>75.0</td>\n",
       "      <td>2022-03-18 15:14:42.122</td>\n",
       "      <td>shortstories</td>\n",
       "    </tr>\n",
       "    <tr>\n",
       "      <th>4</th>\n",
       "      <td>5506791979182708</td>\n",
       "      <td>1377786218415632</td>\n",
       "      <td>100.0</td>\n",
       "      <td>2022-03-18 15:14:42.134</td>\n",
       "      <td>romance</td>\n",
       "    </tr>\n",
       "  </tbody>\n",
       "</table>\n",
       "</div>"
      ],
      "text/plain": [
       "            user_id      pratilipi_id  read_percent              updated_at  \\\n",
       "0  5506791964450228  1377786228203072         100.0 2022-03-18 15:14:41.771   \n",
       "1  5506791972010795  1377786228217647          99.0 2022-03-18 15:14:42.081   \n",
       "2  5506791980439899  1377786228150074         100.0 2022-03-18 15:14:42.120   \n",
       "3  5506791950653936  1377786215559645          75.0 2022-03-18 15:14:42.122   \n",
       "4  5506791979182708  1377786218415632         100.0 2022-03-18 15:14:42.134   \n",
       "\n",
       "  category_name  \n",
       "0     swahindi2  \n",
       "1     swahindi2  \n",
       "2      suspense  \n",
       "3  shortstories  \n",
       "4       romance  "
      ]
     },
     "metadata": {},
     "output_type": "display_data"
    },
    {
     "name": "stdout",
     "output_type": "stream",
     "text": [
      "encoding labels\n",
      "---------------------------------------\n"
     ]
    },
    {
     "name": "stderr",
     "output_type": "stream",
     "text": [
      "C:\\Users\\Aryamaan\\Internship Tasks\\Pratilipi\\ds-assignment\\pratilipi_prediction_utils.ipynb:54: SettingWithCopyWarning: \n",
      "A value is trying to be set on a copy of a slice from a DataFrame.\n",
      "Try using .loc[row_indexer,col_indexer] = value instead\n",
      "\n",
      "See the caveats in the documentation: https://pandas.pydata.org/pandas-docs/stable/user_guide/indexing.html#returning-a-view-versus-a-copy\n",
      "  \"def _user_cleanup(data, user_column_name=\\\"user_id\\\", threshold=10):\\n\",\n"
     ]
    },
    {
     "data": {
      "text/html": [
       "<div>\n",
       "<style scoped>\n",
       "    .dataframe tbody tr th:only-of-type {\n",
       "        vertical-align: middle;\n",
       "    }\n",
       "\n",
       "    .dataframe tbody tr th {\n",
       "        vertical-align: top;\n",
       "    }\n",
       "\n",
       "    .dataframe thead th {\n",
       "        text-align: right;\n",
       "    }\n",
       "</style>\n",
       "<table border=\"1\" class=\"dataframe\">\n",
       "  <thead>\n",
       "    <tr style=\"text-align: right;\">\n",
       "      <th></th>\n",
       "      <th>user_id</th>\n",
       "      <th>pratilipi_id</th>\n",
       "      <th>read_percent</th>\n",
       "      <th>updated_at</th>\n",
       "      <th>category_name</th>\n",
       "      <th>category_id</th>\n",
       "    </tr>\n",
       "  </thead>\n",
       "  <tbody>\n",
       "    <tr>\n",
       "      <th>0</th>\n",
       "      <td>5506791964450228</td>\n",
       "      <td>1377786228203072</td>\n",
       "      <td>100.0</td>\n",
       "      <td>2022-03-18 15:14:41.771</td>\n",
       "      <td>swahindi2</td>\n",
       "      <td>41</td>\n",
       "    </tr>\n",
       "    <tr>\n",
       "      <th>1</th>\n",
       "      <td>5506791972010795</td>\n",
       "      <td>1377786228217647</td>\n",
       "      <td>99.0</td>\n",
       "      <td>2022-03-18 15:14:42.081</td>\n",
       "      <td>swahindi2</td>\n",
       "      <td>41</td>\n",
       "    </tr>\n",
       "    <tr>\n",
       "      <th>2</th>\n",
       "      <td>5506791980439899</td>\n",
       "      <td>1377786228150074</td>\n",
       "      <td>100.0</td>\n",
       "      <td>2022-03-18 15:14:42.120</td>\n",
       "      <td>suspense</td>\n",
       "      <td>40</td>\n",
       "    </tr>\n",
       "    <tr>\n",
       "      <th>3</th>\n",
       "      <td>5506791950653936</td>\n",
       "      <td>1377786215559645</td>\n",
       "      <td>75.0</td>\n",
       "      <td>2022-03-18 15:14:42.122</td>\n",
       "      <td>shortstories</td>\n",
       "      <td>38</td>\n",
       "    </tr>\n",
       "    <tr>\n",
       "      <th>4</th>\n",
       "      <td>5506791979182708</td>\n",
       "      <td>1377786218415632</td>\n",
       "      <td>100.0</td>\n",
       "      <td>2022-03-18 15:14:42.134</td>\n",
       "      <td>romance</td>\n",
       "      <td>35</td>\n",
       "    </tr>\n",
       "  </tbody>\n",
       "</table>\n",
       "</div>"
      ],
      "text/plain": [
       "            user_id      pratilipi_id  read_percent              updated_at  \\\n",
       "0  5506791964450228  1377786228203072         100.0 2022-03-18 15:14:41.771   \n",
       "1  5506791972010795  1377786228217647          99.0 2022-03-18 15:14:42.081   \n",
       "2  5506791980439899  1377786228150074         100.0 2022-03-18 15:14:42.120   \n",
       "3  5506791950653936  1377786215559645          75.0 2022-03-18 15:14:42.122   \n",
       "4  5506791979182708  1377786218415632         100.0 2022-03-18 15:14:42.134   \n",
       "\n",
       "  category_name  category_id  \n",
       "0     swahindi2           41  \n",
       "1     swahindi2           41  \n",
       "2      suspense           40  \n",
       "3  shortstories           38  \n",
       "4       romance           35  "
      ]
     },
     "metadata": {},
     "output_type": "display_data"
    },
    {
     "name": "stdout",
     "output_type": "stream",
     "text": [
      "pruning data\n",
      "---------------------------------------\n"
     ]
    },
    {
     "data": {
      "text/html": [
       "<div>\n",
       "<style scoped>\n",
       "    .dataframe tbody tr th:only-of-type {\n",
       "        vertical-align: middle;\n",
       "    }\n",
       "\n",
       "    .dataframe tbody tr th {\n",
       "        vertical-align: top;\n",
       "    }\n",
       "\n",
       "    .dataframe thead th {\n",
       "        text-align: right;\n",
       "    }\n",
       "</style>\n",
       "<table border=\"1\" class=\"dataframe\">\n",
       "  <thead>\n",
       "    <tr style=\"text-align: right;\">\n",
       "      <th></th>\n",
       "      <th>user_id</th>\n",
       "      <th>pratilipi_id</th>\n",
       "      <th>read_percent</th>\n",
       "      <th>updated_at</th>\n",
       "      <th>category_name</th>\n",
       "      <th>category_id</th>\n",
       "      <th>count_category_id</th>\n",
       "    </tr>\n",
       "  </thead>\n",
       "  <tbody>\n",
       "    <tr>\n",
       "      <th>0</th>\n",
       "      <td>5506791964450228</td>\n",
       "      <td>1377786228203072</td>\n",
       "      <td>100.0</td>\n",
       "      <td>2022-03-18 15:14:41.771</td>\n",
       "      <td>swahindi2</td>\n",
       "      <td>41</td>\n",
       "      <td>164</td>\n",
       "    </tr>\n",
       "    <tr>\n",
       "      <th>1</th>\n",
       "      <td>5506791987808938</td>\n",
       "      <td>1377786228203072</td>\n",
       "      <td>100.0</td>\n",
       "      <td>2022-03-18 15:16:58.895</td>\n",
       "      <td>swahindi2</td>\n",
       "      <td>41</td>\n",
       "      <td>164</td>\n",
       "    </tr>\n",
       "    <tr>\n",
       "      <th>2</th>\n",
       "      <td>5506791963036318</td>\n",
       "      <td>1377786228203072</td>\n",
       "      <td>100.0</td>\n",
       "      <td>2022-03-18 15:32:41.039</td>\n",
       "      <td>swahindi2</td>\n",
       "      <td>41</td>\n",
       "      <td>164</td>\n",
       "    </tr>\n",
       "    <tr>\n",
       "      <th>3</th>\n",
       "      <td>5506791955134775</td>\n",
       "      <td>1377786228203072</td>\n",
       "      <td>100.0</td>\n",
       "      <td>2022-03-18 15:34:10.892</td>\n",
       "      <td>swahindi2</td>\n",
       "      <td>41</td>\n",
       "      <td>164</td>\n",
       "    </tr>\n",
       "    <tr>\n",
       "      <th>4</th>\n",
       "      <td>5506791956839858</td>\n",
       "      <td>1377786228203072</td>\n",
       "      <td>100.0</td>\n",
       "      <td>2022-03-18 15:40:32.378</td>\n",
       "      <td>swahindi2</td>\n",
       "      <td>41</td>\n",
       "      <td>164</td>\n",
       "    </tr>\n",
       "  </tbody>\n",
       "</table>\n",
       "</div>"
      ],
      "text/plain": [
       "            user_id      pratilipi_id  read_percent              updated_at  \\\n",
       "0  5506791964450228  1377786228203072         100.0 2022-03-18 15:14:41.771   \n",
       "1  5506791987808938  1377786228203072         100.0 2022-03-18 15:16:58.895   \n",
       "2  5506791963036318  1377786228203072         100.0 2022-03-18 15:32:41.039   \n",
       "3  5506791955134775  1377786228203072         100.0 2022-03-18 15:34:10.892   \n",
       "4  5506791956839858  1377786228203072         100.0 2022-03-18 15:40:32.378   \n",
       "\n",
       "  category_name  category_id  count_category_id  \n",
       "0     swahindi2           41                164  \n",
       "1     swahindi2           41                164  \n",
       "2     swahindi2           41                164  \n",
       "3     swahindi2           41                164  \n",
       "4     swahindi2           41                164  "
      ]
     },
     "metadata": {},
     "output_type": "display_data"
    },
    {
     "name": "stdout",
     "output_type": "stream",
     "text": [
      "getting pivot table\n",
      "---------------------------------------\n",
      "get sparse table\n",
      "---------------------------------------\n"
     ]
    },
    {
     "data": {
      "text/html": [
       "<div>\n",
       "<style scoped>\n",
       "    .dataframe tbody tr th:only-of-type {\n",
       "        vertical-align: middle;\n",
       "    }\n",
       "\n",
       "    .dataframe tbody tr th {\n",
       "        vertical-align: top;\n",
       "    }\n",
       "\n",
       "    .dataframe thead th {\n",
       "        text-align: right;\n",
       "    }\n",
       "</style>\n",
       "<table border=\"1\" class=\"dataframe\">\n",
       "  <thead>\n",
       "    <tr style=\"text-align: right;\">\n",
       "      <th></th>\n",
       "      <th>user_id</th>\n",
       "      <th>pratilipi_id</th>\n",
       "      <th>read_percent</th>\n",
       "      <th>updated_at</th>\n",
       "      <th>category_name</th>\n",
       "    </tr>\n",
       "  </thead>\n",
       "  <tbody>\n",
       "    <tr>\n",
       "      <th>4156150</th>\n",
       "      <td>5506791961779211</td>\n",
       "      <td>1377786216636963</td>\n",
       "      <td>0.0</td>\n",
       "      <td>2022-03-22 02:38:14.427</td>\n",
       "      <td>romance</td>\n",
       "    </tr>\n",
       "    <tr>\n",
       "      <th>4156151</th>\n",
       "      <td>5506791953452095</td>\n",
       "      <td>1377786225461193</td>\n",
       "      <td>100.0</td>\n",
       "      <td>2022-03-22 02:38:14.496</td>\n",
       "      <td>suspense</td>\n",
       "    </tr>\n",
       "    <tr>\n",
       "      <th>4156152</th>\n",
       "      <td>5506791990323368</td>\n",
       "      <td>1377786221030540</td>\n",
       "      <td>100.0</td>\n",
       "      <td>2022-03-22 02:38:14.596</td>\n",
       "      <td>romance</td>\n",
       "    </tr>\n",
       "    <tr>\n",
       "      <th>4156153</th>\n",
       "      <td>5506791973044490</td>\n",
       "      <td>1377786226895089</td>\n",
       "      <td>100.0</td>\n",
       "      <td>2022-03-22 02:38:14.666</td>\n",
       "      <td>suspense</td>\n",
       "    </tr>\n",
       "    <tr>\n",
       "      <th>4156154</th>\n",
       "      <td>5506791973044490</td>\n",
       "      <td>1377786226936860</td>\n",
       "      <td>100.0</td>\n",
       "      <td>2022-03-22 02:38:14.830</td>\n",
       "      <td>fantasy</td>\n",
       "    </tr>\n",
       "  </tbody>\n",
       "</table>\n",
       "</div>"
      ],
      "text/plain": [
       "                  user_id      pratilipi_id  read_percent  \\\n",
       "4156150  5506791961779211  1377786216636963           0.0   \n",
       "4156151  5506791953452095  1377786225461193         100.0   \n",
       "4156152  5506791990323368  1377786221030540         100.0   \n",
       "4156153  5506791973044490  1377786226895089         100.0   \n",
       "4156154  5506791973044490  1377786226936860         100.0   \n",
       "\n",
       "                     updated_at category_name  \n",
       "4156150 2022-03-22 02:38:14.427       romance  \n",
       "4156151 2022-03-22 02:38:14.496      suspense  \n",
       "4156152 2022-03-22 02:38:14.596       romance  \n",
       "4156153 2022-03-22 02:38:14.666      suspense  \n",
       "4156154 2022-03-22 02:38:14.830       fantasy  "
      ]
     },
     "metadata": {},
     "output_type": "display_data"
    }
   ],
   "source": [
    "train_pivot, train_sparse, test_data, complete_data, metadata, user_data = process_data(\n",
    "    user_data, metadata\n",
    ")"
   ]
  },
  {
   "cell_type": "markdown",
   "id": "a2c5af30",
   "metadata": {},
   "source": [
    "### Fitting the model with the sparse matrix"
   ]
  },
  {
   "cell_type": "code",
   "execution_count": 4,
   "id": "69e7a88d",
   "metadata": {},
   "outputs": [],
   "source": [
    "model = fit(train_sparse)"
   ]
  },
  {
   "cell_type": "markdown",
   "id": "5750d055",
   "metadata": {},
   "source": [
    "### Viewing a sample of the test data"
   ]
  },
  {
   "cell_type": "code",
   "execution_count": 6,
   "id": "d79d5d82",
   "metadata": {},
   "outputs": [
    {
     "data": {
      "text/html": [
       "<div>\n",
       "<style scoped>\n",
       "    .dataframe tbody tr th:only-of-type {\n",
       "        vertical-align: middle;\n",
       "    }\n",
       "\n",
       "    .dataframe tbody tr th {\n",
       "        vertical-align: top;\n",
       "    }\n",
       "\n",
       "    .dataframe thead th {\n",
       "        text-align: right;\n",
       "    }\n",
       "</style>\n",
       "<table border=\"1\" class=\"dataframe\">\n",
       "  <thead>\n",
       "    <tr style=\"text-align: right;\">\n",
       "      <th></th>\n",
       "      <th>user_id</th>\n",
       "      <th>pratilipi_id</th>\n",
       "      <th>read_percent</th>\n",
       "      <th>updated_at</th>\n",
       "      <th>category_name</th>\n",
       "    </tr>\n",
       "  </thead>\n",
       "  <tbody>\n",
       "    <tr>\n",
       "      <th>4156150</th>\n",
       "      <td>5506791961779211</td>\n",
       "      <td>1377786216636963</td>\n",
       "      <td>0.0</td>\n",
       "      <td>2022-03-22 02:38:14.427</td>\n",
       "      <td>romance</td>\n",
       "    </tr>\n",
       "    <tr>\n",
       "      <th>4156151</th>\n",
       "      <td>5506791953452095</td>\n",
       "      <td>1377786225461193</td>\n",
       "      <td>100.0</td>\n",
       "      <td>2022-03-22 02:38:14.496</td>\n",
       "      <td>suspense</td>\n",
       "    </tr>\n",
       "    <tr>\n",
       "      <th>4156152</th>\n",
       "      <td>5506791990323368</td>\n",
       "      <td>1377786221030540</td>\n",
       "      <td>100.0</td>\n",
       "      <td>2022-03-22 02:38:14.596</td>\n",
       "      <td>romance</td>\n",
       "    </tr>\n",
       "    <tr>\n",
       "      <th>4156153</th>\n",
       "      <td>5506791973044490</td>\n",
       "      <td>1377786226895089</td>\n",
       "      <td>100.0</td>\n",
       "      <td>2022-03-22 02:38:14.666</td>\n",
       "      <td>suspense</td>\n",
       "    </tr>\n",
       "    <tr>\n",
       "      <th>4156154</th>\n",
       "      <td>5506791973044490</td>\n",
       "      <td>1377786226936860</td>\n",
       "      <td>100.0</td>\n",
       "      <td>2022-03-22 02:38:14.830</td>\n",
       "      <td>fantasy</td>\n",
       "    </tr>\n",
       "  </tbody>\n",
       "</table>\n",
       "</div>"
      ],
      "text/plain": [
       "                  user_id      pratilipi_id  read_percent  \\\n",
       "4156150  5506791961779211  1377786216636963           0.0   \n",
       "4156151  5506791953452095  1377786225461193         100.0   \n",
       "4156152  5506791990323368  1377786221030540         100.0   \n",
       "4156153  5506791973044490  1377786226895089         100.0   \n",
       "4156154  5506791973044490  1377786226936860         100.0   \n",
       "\n",
       "                     updated_at category_name  \n",
       "4156150 2022-03-22 02:38:14.427       romance  \n",
       "4156151 2022-03-22 02:38:14.496      suspense  \n",
       "4156152 2022-03-22 02:38:14.596       romance  \n",
       "4156153 2022-03-22 02:38:14.666      suspense  \n",
       "4156154 2022-03-22 02:38:14.830       fantasy  "
      ]
     },
     "execution_count": 6,
     "metadata": {},
     "output_type": "execute_result"
    }
   ],
   "source": [
    "test_data.head()"
   ]
  },
  {
   "cell_type": "markdown",
   "id": "20f8a352",
   "metadata": {},
   "source": [
    "### Predicting and evaluating the predictions on a per user basis"
   ]
  },
  {
   "cell_type": "code",
   "execution_count": 7,
   "id": "2b1b78d8",
   "metadata": {},
   "outputs": [
    {
     "name": "stderr",
     "output_type": "stream",
     "text": [
      "C:\\Users\\Aryamaan\\Internship Tasks\\Pratilipi\\ds-assignment\\pratilipi_prediction_utils.ipynb:317: SettingWithCopyWarning: \n",
      "A value is trying to be set on a copy of a slice from a DataFrame.\n",
      "Try using .loc[row_indexer,col_indexer] = value instead\n",
      "\n",
      "See the caveats in the documentation: https://pandas.pydata.org/pandas-docs/stable/user_guide/indexing.html#returning-a-view-versus-a-copy\n",
      "  \"\\n\",\n",
      "C:\\Users\\Aryamaan\\Internship Tasks\\Pratilipi\\ds-assignment\\pratilipi_prediction_utils.ipynb:318: SettingWithCopyWarning: \n",
      "A value is trying to be set on a copy of a slice from a DataFrame.\n",
      "Try using .loc[row_indexer,col_indexer] = value instead\n",
      "\n",
      "See the caveats in the documentation: https://pandas.pydata.org/pandas-docs/stable/user_guide/indexing.html#returning-a-view-versus-a-copy\n",
      "  \"    return table_pivot, table_sparse, test_data, complete_data, metadata, user_data\"\n"
     ]
    }
   ],
   "source": [
    "test_data = predict_and_evaluate(test_data, complete_data, metadata, train_pivot, model)"
   ]
  },
  {
   "cell_type": "markdown",
   "id": "bfe73e70",
   "metadata": {},
   "source": [
    "### Viewing a sample of the test data"
   ]
  },
  {
   "cell_type": "code",
   "execution_count": 8,
   "id": "4fff733c",
   "metadata": {},
   "outputs": [
    {
     "data": {
      "text/html": [
       "<div>\n",
       "<style scoped>\n",
       "    .dataframe tbody tr th:only-of-type {\n",
       "        vertical-align: middle;\n",
       "    }\n",
       "\n",
       "    .dataframe tbody tr th {\n",
       "        vertical-align: top;\n",
       "    }\n",
       "\n",
       "    .dataframe thead th {\n",
       "        text-align: right;\n",
       "    }\n",
       "</style>\n",
       "<table border=\"1\" class=\"dataframe\">\n",
       "  <thead>\n",
       "    <tr style=\"text-align: right;\">\n",
       "      <th></th>\n",
       "      <th>user_id</th>\n",
       "      <th>pratilipi_id</th>\n",
       "      <th>read_percent</th>\n",
       "      <th>updated_at</th>\n",
       "      <th>category_name</th>\n",
       "      <th>category_match_percentage</th>\n",
       "      <th>pratilipi_match_percentage</th>\n",
       "    </tr>\n",
       "  </thead>\n",
       "  <tbody>\n",
       "    <tr>\n",
       "      <th>4156150</th>\n",
       "      <td>5506791961779211</td>\n",
       "      <td>1377786216636963</td>\n",
       "      <td>0.0</td>\n",
       "      <td>2022-03-22 02:38:14.427</td>\n",
       "      <td>romance</td>\n",
       "      <td>100.0</td>\n",
       "      <td>0.0</td>\n",
       "    </tr>\n",
       "    <tr>\n",
       "      <th>4156151</th>\n",
       "      <td>5506791953452095</td>\n",
       "      <td>1377786225461193</td>\n",
       "      <td>100.0</td>\n",
       "      <td>2022-03-22 02:38:14.496</td>\n",
       "      <td>suspense</td>\n",
       "      <td>100.0</td>\n",
       "      <td>0.0</td>\n",
       "    </tr>\n",
       "    <tr>\n",
       "      <th>4156152</th>\n",
       "      <td>5506791990323368</td>\n",
       "      <td>1377786221030540</td>\n",
       "      <td>100.0</td>\n",
       "      <td>2022-03-22 02:38:14.596</td>\n",
       "      <td>romance</td>\n",
       "      <td>100.0</td>\n",
       "      <td>0.0</td>\n",
       "    </tr>\n",
       "    <tr>\n",
       "      <th>4156153</th>\n",
       "      <td>5506791973044490</td>\n",
       "      <td>1377786226895089</td>\n",
       "      <td>100.0</td>\n",
       "      <td>2022-03-22 02:38:14.666</td>\n",
       "      <td>suspense</td>\n",
       "      <td>100.0</td>\n",
       "      <td>50.0</td>\n",
       "    </tr>\n",
       "    <tr>\n",
       "      <th>4156154</th>\n",
       "      <td>5506791973044490</td>\n",
       "      <td>1377786226936860</td>\n",
       "      <td>100.0</td>\n",
       "      <td>2022-03-22 02:38:14.830</td>\n",
       "      <td>fantasy</td>\n",
       "      <td>100.0</td>\n",
       "      <td>50.0</td>\n",
       "    </tr>\n",
       "  </tbody>\n",
       "</table>\n",
       "</div>"
      ],
      "text/plain": [
       "                  user_id      pratilipi_id  read_percent  \\\n",
       "4156150  5506791961779211  1377786216636963           0.0   \n",
       "4156151  5506791953452095  1377786225461193         100.0   \n",
       "4156152  5506791990323368  1377786221030540         100.0   \n",
       "4156153  5506791973044490  1377786226895089         100.0   \n",
       "4156154  5506791973044490  1377786226936860         100.0   \n",
       "\n",
       "                     updated_at category_name  category_match_percentage  \\\n",
       "4156150 2022-03-22 02:38:14.427       romance                      100.0   \n",
       "4156151 2022-03-22 02:38:14.496      suspense                      100.0   \n",
       "4156152 2022-03-22 02:38:14.596       romance                      100.0   \n",
       "4156153 2022-03-22 02:38:14.666      suspense                      100.0   \n",
       "4156154 2022-03-22 02:38:14.830       fantasy                      100.0   \n",
       "\n",
       "         pratilipi_match_percentage  \n",
       "4156150                         0.0  \n",
       "4156151                         0.0  \n",
       "4156152                         0.0  \n",
       "4156153                        50.0  \n",
       "4156154                        50.0  "
      ]
     },
     "execution_count": 8,
     "metadata": {},
     "output_type": "execute_result"
    }
   ],
   "source": [
    "test_data.head()"
   ]
  },
  {
   "cell_type": "markdown",
   "id": "f0918d1b",
   "metadata": {},
   "source": [
    "### Finding all rows where we were able to predict something"
   ]
  },
  {
   "cell_type": "code",
   "execution_count": 10,
   "id": "eab637fe",
   "metadata": {},
   "outputs": [],
   "source": [
    "test_data = test_data.loc[\n",
    "    (test_data[\"category_match_percentage\"] != 0.0)\n",
    "    & (test_data[\"pratilipi_match_percentage\"] != 0.0)\n",
    "]"
   ]
  },
  {
   "cell_type": "markdown",
   "id": "0897585b",
   "metadata": {},
   "source": [
    "### Getting mean accuracies"
   ]
  },
  {
   "cell_type": "code",
   "execution_count": 14,
   "id": "467fac0a",
   "metadata": {},
   "outputs": [
    {
     "data": {
      "text/plain": [
       "97.304"
      ]
     },
     "execution_count": 14,
     "metadata": {},
     "output_type": "execute_result"
    }
   ],
   "source": [
    "(test_data['category_match_percentage']).mean()"
   ]
  },
  {
   "cell_type": "code",
   "execution_count": 15,
   "id": "e149cbfb",
   "metadata": {},
   "outputs": [
    {
     "data": {
      "text/plain": [
       "8.869"
      ]
     },
     "execution_count": 15,
     "metadata": {},
     "output_type": "execute_result"
    }
   ],
   "source": [
    "(test_data['pratilipi_match_percentage']).mean()"
   ]
  }
 ],
 "metadata": {
  "kernelspec": {
   "display_name": "Python 3",
   "language": "python",
   "name": "python3"
  },
  "language_info": {
   "codemirror_mode": {
    "name": "ipython",
    "version": 3
   },
   "file_extension": ".py",
   "mimetype": "text/x-python",
   "name": "python",
   "nbconvert_exporter": "python",
   "pygments_lexer": "ipython3",
   "version": "3.8.8"
  }
 },
 "nbformat": 4,
 "nbformat_minor": 5
}
